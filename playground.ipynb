{
 "cells": [
  {
   "cell_type": "code",
   "execution_count": 1,
   "metadata": {},
   "outputs": [],
   "source": [
    "import cv2\n",
    "from pathlib import Path\n",
    "import os\n",
    "import matplotlib.pyplot as plt\n",
    "import itertools"
   ]
  },
  {
   "cell_type": "code",
   "execution_count": 2,
   "metadata": {},
   "outputs": [],
   "source": [
    "from torch.utils.data import Dataset, DataLoader"
   ]
  },
  {
   "cell_type": "code",
   "execution_count": 3,
   "metadata": {},
   "outputs": [],
   "source": [
    "from embedding_function import EmbeddingFunction"
   ]
  },
  {
   "cell_type": "code",
   "execution_count": 4,
   "metadata": {},
   "outputs": [
    {
     "data": {
      "text/plain": [
       "PosixPath('/Users/afolabi/Programming/omniglot/data/images_background')"
      ]
     },
     "execution_count": 4,
     "metadata": {},
     "output_type": "execute_result"
    }
   ],
   "source": [
    "image_folder = Path(os.getcwd()) / Path(\"data/images_background\")\n",
    "image_folder"
   ]
  },
  {
   "cell_type": "code",
   "execution_count": 5,
   "metadata": {},
   "outputs": [
    {
     "data": {
      "image/png": "[encoded data removed]",
      "text/plain": [
       "<Figure size 640x480 with 1 Axes>"
      ]
     },
     "metadata": {},
     "output_type": "display_data"
    },
    {
     "data": {
      "text/plain": [
       "array([[[255, 255, 255],\n",
       "        [255, 255, 255],\n",
       "        [255, 255, 255],\n",
       "        ...,\n",
       "        [255, 255, 255],\n",
       "        [255, 255, 255],\n",
       "        [255, 255, 255]],\n",
       "\n",
       "       [[255, 255, 255],\n",
       "        [255, 255, 255],\n",
       "        [255, 255, 255],\n",
       "        ...,\n",
       "        [255, 255, 255],\n",
       "        [255, 255, 255],\n",
       "        [255, 255, 255]],\n",
       "\n",
       "       [[255, 255, 255],\n",
       "        [255, 255, 255],\n",
       "        [255, 255, 255],\n",
       "        ...,\n",
       "        [255, 255, 255],\n",
       "        [255, 255, 255],\n",
       "        [255, 255, 255]],\n",
       "\n",
       "       ...,\n",
       "\n",
       "       [[255, 255, 255],\n",
       "        [255, 255, 255],\n",
       "        [255, 255, 255],\n",
       "        ...,\n",
       "        [255, 255, 255],\n",
       "        [255, 255, 255],\n",
       "        [255, 255, 255]],\n",
       "\n",
       "       [[255, 255, 255],\n",
       "        [255, 255, 255],\n",
       "        [255, 255, 255],\n",
       "        ...,\n",
       "        [255, 255, 255],\n",
       "        [255, 255, 255],\n",
       "        [255, 255, 255]],\n",
       "\n",
       "       [[255, 255, 255],\n",
       "        [255, 255, 255],\n",
       "        [255, 255, 255],\n",
       "        ...,\n",
       "        [255, 255, 255],\n",
       "        [255, 255, 255],\n",
       "        [255, 255, 255]]], dtype=uint8)"
      ]
     },
     "metadata": {},
     "output_type": "display_data"
    },
    {
     "ename": "NotADirectoryError",
     "evalue": "[Errno 20] Not a directory: '/Users/afolabi/Programming/omniglot/data/images_background/Alphabet_of_the_Magi/.DS_Store'",
     "output_type": "error",
     "traceback": [
      "\u001b[0;31m---------------------------------------------------------------------------\u001b[0m",
      "\u001b[0;31mNotADirectoryError\u001b[0m                        Traceback (most recent call last)",
      "Cell \u001b[0;32mIn[5], line 5\u001b[0m\n\u001b[1;32m      3\u001b[0m \u001b[39mif\u001b[39;00m os\u001b[39m.\u001b[39mpath\u001b[39m.\u001b[39misdir(image_folder \u001b[39m/\u001b[39m Path(folder)):  \n\u001b[1;32m      4\u001b[0m     \u001b[39mfor\u001b[39;00m j, file \u001b[39min\u001b[39;00m \u001b[39menumerate\u001b[39m(os\u001b[39m.\u001b[39mlistdir(image_folder \u001b[39m/\u001b[39m Path(folder))):\n\u001b[0;32m----> 5\u001b[0m         \u001b[39mfor\u001b[39;00m k, image_url \u001b[39min\u001b[39;00m \u001b[39menumerate\u001b[39m(os\u001b[39m.\u001b[39;49mlistdir(image_folder \u001b[39m/\u001b[39;49m Path(folder)\u001b[39m/\u001b[39;49m Path(file))):\n\u001b[1;32m      6\u001b[0m             \u001b[39mif\u001b[39;00m i \u001b[39m==\u001b[39m \u001b[39m0\u001b[39m \u001b[39mand\u001b[39;00m j \u001b[39m==\u001b[39m \u001b[39m0\u001b[39m \u001b[39mand\u001b[39;00m k \u001b[39m==\u001b[39m \u001b[39m0\u001b[39m:\n\u001b[1;32m      7\u001b[0m                 image \u001b[39m=\u001b[39m cv2\u001b[39m.\u001b[39mimread(\u001b[39mstr\u001b[39m(Path(image_folder) \u001b[39m/\u001b[39m Path(folder) \u001b[39m/\u001b[39m Path(file) \u001b[39m/\u001b[39m Path(image_url)))\n",
      "\u001b[0;31mNotADirectoryError\u001b[0m: [Errno 20] Not a directory: '/Users/afolabi/Programming/omniglot/data/images_background/Alphabet_of_the_Magi/.DS_Store'"
     ]
    }
   ],
   "source": [
    "# Load the image\n",
    "for i, folder in enumerate(os.listdir(image_folder)):\n",
    "    if os.path.isdir(image_folder / Path(folder)):  \n",
    "        for j, file in enumerate(os.listdir(image_folder / Path(folder))):\n",
    "            for k, image_url in enumerate(os.listdir(image_folder / Path(folder)/ Path(file))):\n",
    "                if i == 0 and j == 0 and k == 0:\n",
    "                    image = cv2.imread(str(Path(image_folder) / Path(folder) / Path(file) / Path(image_url)))\n",
    "\n",
    "                    # Display the image with matplotlib\n",
    "                    plt.imshow(image)\n",
    "                    plt.axis('off')  # Hide axes\n",
    "                    plt.show()  # IMREAD_UNCHANGED keeps the alpha channel if it's there\n",
    "                    # print(Path(image_folder) / Path(folder) / Path(file))\n",
    "                    display(image)\n",
    "# Note: OpenCV loads images in BGR format by default\n",
    "# If you want it in RGB format:\n",
    "# image_rgb = cv2.cvtColor(image, cv2.COLOR_BGR2RGB)"
   ]
  },
  {
   "cell_type": "code",
   "execution_count": 6,
   "metadata": {},
   "outputs": [],
   "source": [
    "class ImageDataset(Dataset):\n",
    "    def __init__(self, base_dir, train=True, transform=None, target_transform=None):\n",
    "        self.base_dir = base_dir\n",
    "        self.image_labels = [\n",
    "            [\n",
    "                str(f\"{alphabet}/{character}\") for character in os.listdir(Path(self.base_dir) / alphabet) \n",
    "                if os.path.isdir(Path(self.base_dir) / alphabet / character)\n",
    "            ] \n",
    "            for alphabet in os.listdir(self.base_dir) if os.path.isdir(Path(self.base_dir) / alphabet)\n",
    "        ]\n",
    "        self.image_labels = list(itertools.chain.from_iterable(self.image_labels))\n",
    "        self.image_dict = {\n",
    "            img_dir: [image.rstrip(\".png\") for image in os.listdir(Path(self.base_dir) / img_dir)] \n",
    "            for img_dir in self.image_labels\n",
    "        }\n",
    "        # self.img_labels = pd.read_csv(annotations_file)\n",
    "        # self.img_dir = img_dir\n",
    "        # self.transform = transform\n",
    "        # self.target_transform = target_transform\n",
    "\n",
    "    def __len__(self):\n",
    "        return sum(len(value) for value in self.image_dict.values())\n",
    "\n",
    "    def __getitem__(self, id):\n",
    "        filename = id + \".png\"\n",
    "        #find id in self.image_dict\n",
    "        for key, value in self.image_dict.items():\n",
    "            if id in value:\n",
    "                img_dir = key\n",
    "                label = img_dir\n",
    "                img_path = Path(self.base_dir) / img_dir / filename\n",
    "                image = cv2.imread(str(img_path))\n",
    "                return image,  label\n",
    "        raise ValueError(f\"ID {id} not found in dataset\")\n",
    "        \n",
    "        \n"
   ]
  },
  {
   "cell_type": "code",
   "execution_count": 7,
   "metadata": {},
   "outputs": [
    {
     "data": {
      "text/plain": [
       "(array([[[255, 255, 255],\n",
       "         [255, 255, 255],\n",
       "         [255, 255, 255],\n",
       "         ...,\n",
       "         [255, 255, 255],\n",
       "         [255, 255, 255],\n",
       "         [255, 255, 255]],\n",
       " \n",
       "        [[255, 255, 255],\n",
       "         [255, 255, 255],\n",
       "         [255, 255, 255],\n",
       "         ...,\n",
       "         [255, 255, 255],\n",
       "         [255, 255, 255],\n",
       "         [255, 255, 255]],\n",
       " \n",
       "        [[255, 255, 255],\n",
       "         [255, 255, 255],\n",
       "         [255, 255, 255],\n",
       "         ...,\n",
       "         [255, 255, 255],\n",
       "         [255, 255, 255],\n",
       "         [255, 255, 255]],\n",
       " \n",
       "        ...,\n",
       " \n",
       "        [[255, 255, 255],\n",
       "         [255, 255, 255],\n",
       "         [255, 255, 255],\n",
       "         ...,\n",
       "         [255, 255, 255],\n",
       "         [255, 255, 255],\n",
       "         [255, 255, 255]],\n",
       " \n",
       "        [[255, 255, 255],\n",
       "         [255, 255, 255],\n",
       "         [255, 255, 255],\n",
       "         ...,\n",
       "         [255, 255, 255],\n",
       "         [255, 255, 255],\n",
       "         [255, 255, 255]],\n",
       " \n",
       "        [[255, 255, 255],\n",
       "         [255, 255, 255],\n",
       "         [255, 255, 255],\n",
       "         ...,\n",
       "         [255, 255, 255],\n",
       "         [255, 255, 255],\n",
       "         [255, 255, 255]]], dtype=uint8),\n",
       " 'Tagalog/character07')"
      ]
     },
     "execution_count": 7,
     "metadata": {},
     "output_type": "execute_result"
    }
   ],
   "source": [
    "dataset = ImageDataset(image_folder)\n",
    "dataset.image_dict\n",
    "dataset.__getitem__(\"0899_01\")"
   ]
  },
  {
   "cell_type": "code",
   "execution_count": 25,
   "metadata": {},
   "outputs": [
    {
     "ename": "",
     "evalue": "",
     "output_type": "error",
     "traceback": [
      "\u001b[1;31mCannot execute code, session has been disposed. Please try restarting the Kernel."
     ]
    },
    {
     "ename": "",
     "evalue": "",
     "output_type": "error",
     "traceback": [
      "\u001b[1;31mThe Kernel crashed while executing code in the the current cell or a previous cell. Please review the code in the cell(s) to identify a possible cause of the failure. Click <a href='https://aka.ms/vscodeJupyterKernelCrash'>here</a> for more info. View Jupyter <a href='command:jupyter.viewOutput'>log</a> for further details."
     ]
    }
   ],
   "source": [
    "import random\n",
    "import numpy as np\n",
    "import torch \n",
    "from loss import ProtoNetLoss\n",
    "import torch.optim as optim\n",
    "\n",
    "n_c = 10\n",
    "n_s = 5\n",
    "n_q = 5\n",
    "\n",
    "nn_kwargs = {\n",
    "    \"input_dims\": (3, 105, 105),\n",
    "    \"hidden_dim\": 64,\n",
    "    \"output_dim\": 64,\n",
    "}\n",
    "embedding_fn = EmbeddingFunction(**nn_kwargs)\n",
    "# Zero the parameter gradients\n",
    "optimizer = optim.SGD(embedding_fn.parameters(), lr=0.01)\n",
    "loss_fn = ProtoNetLoss(reduction=\"mean\")\n",
    "\n",
    "\n",
    "for _ in range(1000):\n",
    "    v = random.sample(dataset.image_labels, n_c)\n",
    "    optimizer.zero_grad()\n",
    "    episode_loss = torch.tensor(0.0, requires_grad=True)\n",
    "    centroids = dict()\n",
    "    query_sets = dict()\n",
    "\n",
    "    for label in v:\n",
    "        support_set_ids = random.sample(dataset.image_dict[label], n_s)\n",
    "        query_set_ids = random.sample(dataset.image_dict[label], n_q)\n",
    "        support_set = [\n",
    "            torch.from_numpy(np.transpose(dataset.__getitem__(id)[0], (2, 0, 1)))/255 for id in support_set_ids\n",
    "        ]\n",
    "        query_sets[label] = [\n",
    "            torch.from_numpy(np.transpose(dataset.__getitem__(id)[0], (2, 0, 1)))/255 for id in query_set_ids\n",
    "        ]\n",
    "\n",
    "        centroids[label] = embedding_fn(torch.stack(support_set)).mean(dim=0)\n",
    "\n",
    "    \n",
    "    for label in v:   \n",
    "        non_target_centroids = torch.stack([centroids[key] for key in v if key != label])\n",
    "        target_centroid = centroids[label]\n",
    "        query_set = query_sets[label]\n",
    "        # print(target_centroid.shape)\n",
    "        for query in query_set:\n",
    "            output = embedding_fn(query.view(1, 3, 105, 105))\n",
    "            episode_loss = episode_loss + loss_fn(output, target_centroid, non_target_centroids)\n",
    "            # Backward pass: compute gradient of the loss with respect to model parameters\n",
    "    episode_loss.backward()\n",
    "    optimizer.step()\n"
   ]
  },
  {
   "cell_type": "code",
   "execution_count": null,
   "metadata": {},
   "outputs": [],
   "source": []
  }
 ],
 "metadata": {
  "kernelspec": {
   "display_name": "omniglot-5ZAGvh-e-py3.10",
   "language": "python",
   "name": "python3"
  },
  "language_info": {
   "codemirror_mode": {
    "name": "ipython",
    "version": 3
   },
   "file_extension": ".py",
   "mimetype": "text/x-python",
   "name": "python",
   "nbconvert_exporter": "python",
   "pygments_lexer": "ipython3",
   "version": "3.10.10"
  },
  "orig_nbformat": 4
 },
 "nbformat": 4,
 "nbformat_minor": 2
}
